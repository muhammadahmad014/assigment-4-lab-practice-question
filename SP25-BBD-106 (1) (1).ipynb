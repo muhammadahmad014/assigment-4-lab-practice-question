{
 "cells": [
  {
   "cell_type": "markdown",
   "id": "56357cc2-01b4-4812-8900-e36a7a8d88b4",
   "metadata": {},
   "source": [
    "MUHAMMAD AHMAD (SP25-BBD-106)"
   ]
  },
  {
   "cell_type": "markdown",
   "id": "f40ade84-b13c-461a-94fe-7d219f00df2a",
   "metadata": {},
   "source": [
    "# QUESTION NO 01:\n",
    " Create a class Person with attributes name, age, and city."
   ]
  },
  {
   "cell_type": "code",
   "execution_count": 3,
   "id": "ed24bcfd-7b52-4325-a6d2-72355b5adb16",
   "metadata": {},
   "outputs": [
    {
     "name": "stdout",
     "output_type": "stream",
     "text": [
      "muhammad ahmad\n",
      "19\n",
      "faisalabad\n",
      "my name is muhammad ahmad\n"
     ]
    }
   ],
   "source": [
    "\n",
    "class person:\n",
    "    def __init__(self,name, age, city):\n",
    "        self.name=name\n",
    "        self.age=age\n",
    "        self.city=city\n",
    "    \n",
    "    def introduce(self):\n",
    "        print(f\"my name is {self.name}\")\n",
    "        \n",
    "my_name = person(\"muhammad ahmad\",19,\"faisalabad\")\n",
    "print(my_name.name)\n",
    "print(my_name.age)\n",
    "print(my_name.city)\n",
    "my_name.introduce()\n",
    "       \n",
    "\n",
    " "
   ]
  },
  {
   "cell_type": "markdown",
   "id": "dd8fbd1d-ff30-4589-a998-de0304729bd1",
   "metadata": {},
   "source": [
    "# QUESTION NO 02:\n",
    " Create a class Car with attributes make, model, and year.\n"
   ]
  },
  {
   "cell_type": "code",
   "execution_count": 5,
   "id": "2b7606b2-7ba6-45c5-9657-e292b0d99d96",
   "metadata": {},
   "outputs": [
    {
     "name": "stdout",
     "output_type": "stream",
     "text": [
      "hundai\n",
      "BMW\n",
      "2024\n",
      "my car is hundai\n"
     ]
    }
   ],
   "source": [
    "class car:\n",
    "    def __init__(self,make,model,year):\n",
    "     self.make=make\n",
    "     self.model=model\n",
    "     self.year=year\n",
    "    def company(self):\n",
    "        print(f\"my car is {self.make}\")\n",
    "\n",
    "my_make= car(\"hundai\",\"BMW\",2024)\n",
    "print(my_make.make)\n",
    "print(my_make.model)\n",
    "print(my_make.year)\n",
    "my_make.company()\n",
    "            \n",
    "    "
   ]
  },
  {
   "cell_type": "markdown",
   "id": "c2b29a65-5038-48b3-ab04-97468773a32a",
   "metadata": {},
   "source": [
    "# QUESTION NO 03:\n",
    "Create a class Circle with attributes radius and methods to calculate area and circumference:"
   ]
  },
  {
   "cell_type": "code",
   "execution_count": 1,
   "id": "d21f9131-8d49-458d-b950-328e9d46aa05",
   "metadata": {},
   "outputs": [
    {
     "name": "stdout",
     "output_type": "stream",
     "text": [
      "Area: 78.5\n",
      "Circumference: 31.400000000000002\n"
     ]
    }
   ],
   "source": [
    "class Circle:\n",
    "    def __init__(self, radius):\n",
    "        self.radius = radius\n",
    "\n",
    "    def area(self):\n",
    "        return 3.14 * self.radius ** 2\n",
    "\n",
    "    def circumference(self):\n",
    "        return 2 * 3.14 * self.radius\n",
    "\n",
    "c = Circle(5)\n",
    "print(\"Area:\", c.area())\n",
    "print(\"Circumference:\", c.circumference())\n"
   ]
  },
  {
   "cell_type": "markdown",
   "id": "f41177bf-66fc-4591-9489-e57361414f8f",
   "metadata": {},
   "source": [
    "# QUESTION NO 04:\n",
    "Create a class Rectangle with attributes length and width and methods to calculate area and perimeter."
   ]
  },
  {
   "cell_type": "code",
   "execution_count": 2,
   "id": "302fefd7-f7b7-47e9-9ef9-6d61e41cae68",
   "metadata": {},
   "outputs": [
    {
     "name": "stdout",
     "output_type": "stream",
     "text": [
      "Area: 10\n",
      "Perimeter: 14\n"
     ]
    }
   ],
   "source": [
    "class Rectangle:\n",
    "    def __init__(self, l, w):\n",
    "        self.l = l\n",
    "        self.w = w\n",
    "\n",
    "    def area(self):\n",
    "        return self.l * self.w\n",
    "\n",
    "    def perimeter(self):\n",
    "        return 2 * (self.l + self.w)\n",
    "r = Rectangle(5, 2)\n",
    "print(\"Area:\", r.area())\n",
    "print(\"Perimeter:\", r.perimeter())"
   ]
  },
  {
   "cell_type": "markdown",
   "id": "2710cce3-240f-426b-9aaa-56cb7c44eeb8",
   "metadata": {},
   "source": [
    "# QUESTION NO 05:\n",
    " Create a class Student with attributes name, roll_number, and marks. Implement a method to calculate the average marks.\n"
   ]
  },
  {
   "cell_type": "code",
   "execution_count": 7,
   "id": "022a1cd4-ed82-499b-8458-170d4206a715",
   "metadata": {},
   "outputs": [
    {
     "name": "stdout",
     "output_type": "stream",
     "text": [
      "Name: Ali\n",
      "Average Marks: 84.33333333333333\n"
     ]
    }
   ],
   "source": [
    "class Student:\n",
    "    def __init__(self, name, roll_number, marks):\n",
    "        self.name = name\n",
    "        self.roll = roll_number\n",
    "        self.marks = marks  # marks should be a list of numbers\n",
    "\n",
    "    def average(self):\n",
    "        return sum(self.marks) / len(self.marks)\n",
    "s = Student(\"Ali\", 101, [85, 90, 78])\n",
    "print(\"Name:\", s.name)\n",
    "print(\"Average Marks:\", s.average())"
   ]
  },
  {
   "cell_type": "markdown",
   "id": "fe187944-1144-4432-905e-f0f483a6080f",
   "metadata": {},
   "source": [
    "# QUESTION NO 06:\n",
    "Create a class Book with attributes title, author, and publication_year."
   ]
  },
  {
   "cell_type": "code",
   "execution_count": 4,
   "id": "4f597dca-e0f6-4fbd-ba5e-95c533500387",
   "metadata": {},
   "outputs": [
    {
     "name": "stdout",
     "output_type": "stream",
     "text": [
      "Title: 1984\n",
      "Author: George Orwell\n",
      "Year: 1949\n"
     ]
    }
   ],
   "source": [
    "class Book:\n",
    "    def __init__(self, title, author, publication_year):\n",
    "        self.title = title\n",
    "        self.author = author\n",
    "        self.year = publication_year\n",
    "b = Book(\"1984\", \"George Orwell\", 1949)\n",
    "print(\"Title:\", b.title)\n",
    "print(\"Author:\", b.author)\n",
    "print(\"Year:\", b.year)"
   ]
  },
  {
   "cell_type": "markdown",
   "id": "92e19acf-befa-478f-a6d6-d7eb534d91d0",
   "metadata": {},
   "source": [
    "# QUESTION NO 07:\n",
    "Create a class Employee with attributes name, salary, and designation."
   ]
  },
  {
   "cell_type": "code",
   "execution_count": 9,
   "id": "ece27887-50bd-4717-b29e-b763ae95a46e",
   "metadata": {},
   "outputs": [
    {
     "name": "stdout",
     "output_type": "stream",
     "text": [
      "Name: atif\n",
      "Salary: 50000\n",
      "Designation: Manager\n"
     ]
    }
   ],
   "source": [
    "class Employee:\n",
    "    def __init__(self, name, salary, designation):\n",
    "        self.name = name\n",
    "        self.salary = salary\n",
    "        self.designation = designation\n",
    "e = Employee(\"atif\", 50000, \"Manager\")\n",
    "print(\"Name:\", e.name)\n",
    "print(\"Salary:\", e.salary)\n",
    "print(\"Designation:\", e.designation)"
   ]
  },
  {
   "cell_type": "markdown",
   "id": "6f559115-4806-4d10-90cc-e4b641330315",
   "metadata": {},
   "source": [
    "# QUESTION NO 08:\n",
    "Create a class Bank with attributes name, account_number, and balance. Implement methods to deposit and withdraw money."
   ]
  },
  {
   "cell_type": "code",
   "execution_count": 6,
   "id": "a3133461-a5d7-4675-bb9f-9a19938b8338",
   "metadata": {},
   "outputs": [
    {
     "name": "stdout",
     "output_type": "stream",
     "text": [
      "Balance: 1200\n"
     ]
    }
   ],
   "source": [
    "class Bank:\n",
    "    def __init__(self, name, account_number, balance):\n",
    "        self.name = name\n",
    "        self.account_number = account_number\n",
    "        self.balance = balance\n",
    "\n",
    "    def deposit(self, amount):\n",
    "        self.balance += amount\n",
    "\n",
    "    def withdraw(self, amount):\n",
    "        if amount <= self.balance:\n",
    "            self.balance -= amount\n",
    "        else:\n",
    "            print(\"Insufficient balance\")\n",
    "b = Bank(\"Alice\", \"123456\", 1000)\n",
    "b.deposit(500)\n",
    "b.withdraw(300)\n",
    "print(\"Balance:\", b.balance)\n"
   ]
  },
  {
   "cell_type": "markdown",
   "id": "6c7e83ee-f6ab-414e-90f1-0ffd417e11df",
   "metadata": {},
   "source": [
    "# QUESTION NO 09:\n",
    "Create a class Shape with a method to calculate area. Create subclasses Circle, Rectangle, and Triangle that inherit from Shape and implement their specific area calculations."
   ]
  },
  {
   "cell_type": "code",
   "execution_count": 7,
   "id": "e27d74f6-368c-48c9-b5e6-a72693cc4de1",
   "metadata": {},
   "outputs": [
    {
     "name": "stdout",
     "output_type": "stream",
     "text": [
      "Circle area: 78.5\n",
      "Rectangle area: 24\n",
      "Triangle area: 10.5\n"
     ]
    }
   ],
   "source": [
    "class Shape:\n",
    "    def area(self):\n",
    "        return 0\n",
    "\n",
    "class Circle(Shape):\n",
    "    def __init__(self, radius):\n",
    "        self.radius = radius\n",
    "\n",
    "    def area(self):\n",
    "        return 3.14 * self.radius * self.radius\n",
    "\n",
    "class Rectangle(Shape):\n",
    "    def __init__(self, width, height):\n",
    "        self.width = width\n",
    "        self.height = height\n",
    "\n",
    "    def area(self):\n",
    "        return self.width * self.height\n",
    "\n",
    "class Triangle(Shape):\n",
    "    def __init__(self, base, height):\n",
    "        self.base = base\n",
    "        self.height = height\n",
    "\n",
    "    def area(self):\n",
    "        return 0.5 * self.base * self.height\n",
    "c = Circle(5)\n",
    "print(\"Circle area:\", c.area())\n",
    "\n",
    "r = Rectangle(4, 6)\n",
    "print(\"Rectangle area:\", r.area())\n",
    "\n",
    "t = Triangle(3, 7)\n",
    "print(\"Triangle area:\", t.area())\n"
   ]
  },
  {
   "cell_type": "markdown",
   "id": "3ada2cee-a3f8-42da-92c4-8d4426c11dc5",
   "metadata": {},
   "source": [
    "# QUESWTION NO 10:\n",
    " Create a class Animal with attributes name and sound. Create subclasses Dog, Cat, and Cow that inherit from Animal and implement their specific sounds."
   ]
  },
  {
   "cell_type": "code",
   "execution_count": 8,
   "id": "bfaabb86-a2d1-4e6c-ab7d-e1b275a657c5",
   "metadata": {},
   "outputs": [
    {
     "name": "stdout",
     "output_type": "stream",
     "text": [
      "Buddy says Woof\n",
      "Whiskers says Meow\n",
      "Bessie says Moo\n"
     ]
    }
   ],
   "source": [
    "class Animal:\n",
    "    def __init__(self, name):\n",
    "        self.name = name\n",
    "        self.sound = \"\"\n",
    "\n",
    "    def make_sound(self):\n",
    "        print(f\"{self.name} says {self.sound}\")\n",
    "\n",
    "class Dog(Animal):\n",
    "    def __init__(self, name):\n",
    "        super().__init__(name)\n",
    "        self.sound = \"Woof\"\n",
    "\n",
    "class Cat(Animal):\n",
    "    def __init__(self, name):\n",
    "        super().__init__(name)\n",
    "        self.sound = \"Meow\"\n",
    "\n",
    "class Cow(Animal):\n",
    "    def __init__(self, name):\n",
    "        super().__init__(name)\n",
    "        self.sound = \"Moo\"\n",
    "dog = Dog(\"Buddy\")\n",
    "cat = Cat(\"Whiskers\")\n",
    "cow = Cow(\"Bessie\")\n",
    "\n",
    "dog.make_sound() \n",
    "cat.make_sound() \n",
    "cow.make_sound()  \n"
   ]
  },
  {
   "cell_type": "code",
   "execution_count": null,
   "id": "d2dd02f1-9419-4567-83f1-5ae51bc6dc94",
   "metadata": {},
   "outputs": [],
   "source": []
  }
 ],
 "metadata": {
  "kernelspec": {
   "display_name": "Python [conda env:base] *",
   "language": "python",
   "name": "conda-base-py"
  },
  "language_info": {
   "codemirror_mode": {
    "name": "ipython",
    "version": 3
   },
   "file_extension": ".py",
   "mimetype": "text/x-python",
   "name": "python",
   "nbconvert_exporter": "python",
   "pygments_lexer": "ipython3",
   "version": "3.12.7"
  }
 },
 "nbformat": 4,
 "nbformat_minor": 5
}
